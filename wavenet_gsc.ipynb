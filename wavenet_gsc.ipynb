{
 "cells": [
  {
   "cell_type": "code",
   "execution_count": 1,
   "metadata": {},
   "outputs": [
    {
     "name": "stdout",
     "output_type": "stream",
     "text": [
      "cpu\n",
      "(tensor([[ 0.0000,  0.0000,  0.0000,  ..., -0.0458,  0.0068,  0.0377]]), 1)\n",
      "(tensor([[-0.0005, -0.0052,  0.0002,  ...,  0.0111,  0.0040,  0.0000]]), 4)\n",
      "(tensor([[0.0018, 0.0032, 0.0043,  ..., 0.0025, 0.0015, 0.0013]]), 2)\n"
     ]
    }
   ],
   "source": [
    "import torch\n",
    "\n",
    "device = torch.device(\"cuda\" if torch.cuda.is_available() else \"cpu\")\n",
    "print(device)\n",
    "\n",
    "import pandas as pd\n",
    "from torch.utils.data import Dataset\n",
    "import os\n",
    "import torchaudio\n",
    "\n",
    "class My_Dataset(Dataset):\n",
    "\n",
    "    def __init__(self, csv_file, root_dir, set_number):\n",
    "        \"\"\"\n",
    "        Arguments:\n",
    "            csv_file (string): Path to the csv file with annotations.\n",
    "            root_dir (string): Directory with all the audio files.\n",
    "            set_number (int): Set number to filter the samples.\n",
    "        \"\"\"\n",
    "        self.data = pd.read_csv(csv_file)\n",
    "        self.root_dir = root_dir\n",
    "        self.set_number = set_number\n",
    "        self.filtered_indices = self.filter()\n",
    "\n",
    "    def __len__(self):\n",
    "        return len(self.filtered_indices)\n",
    "\n",
    "    def filter(self):\n",
    "        filtered_indices = []\n",
    "        for idx in range(len(self.data)):\n",
    "            set_value = int(self.data.iloc[idx, 1])\n",
    "            if set_value == self.set_number:\n",
    "                filtered_indices.append(idx)\n",
    "        return filtered_indices\n",
    "\n",
    "    def __getitem__(self, idx):\n",
    "        idx = self.filtered_indices[idx]\n",
    "        file = os.path.join(self.root_dir, self.data.iloc[idx, 0])\n",
    "        class_label = int(self.data.iloc[idx, 2])\n",
    "        waveform, _ = torchaudio.load(file)\n",
    "        return waveform, class_label\n",
    "\n",
    "csv_file = 'dataset_2.csv'\n",
    "root_dir = 'dataset'\n",
    "train_dataset = My_Dataset(csv_file, root_dir, 0)\n",
    "test_dataset = My_Dataset(csv_file, root_dir, 1)\n",
    "valid_dataset = My_Dataset(csv_file, root_dir, 2)\n",
    "print(train_dataset[0])\n",
    "print(test_dataset[0])\n",
    "print(valid_dataset[0])\n"
   ]
  },
  {
   "cell_type": "code",
   "execution_count": 2,
   "metadata": {},
   "outputs": [
    {
     "name": "stdout",
     "output_type": "stream",
     "text": [
      "torch.Size([64, 1, 16000]) torch.Size([64])\n",
      "torch.Size([64, 1, 16000]) torch.Size([64])\n",
      "torch.Size([64, 1, 16000]) torch.Size([64])\n",
      "torch.Size([64, 1, 16000]) torch.Size([64])\n"
     ]
    }
   ],
   "source": [
    "import matplotlib.pyplot as plt\n",
    "import os\n",
    "from torch.utils.data import DataLoader\n",
    "# from torchvision import datasets\n",
    "from torchvision.transforms import ToTensor\n",
    "plt.style.use('ggplot')\n",
    "\n",
    "batch_size = 64\n",
    "train_loader = DataLoader(train_dataset, batch_size=batch_size, shuffle=True, num_workers=0, pin_memory=True)\n",
    "valid_loader = DataLoader(valid_dataset, batch_size=batch_size, shuffle=False, num_workers=0, pin_memory=True)\n",
    "test_loader = DataLoader(test_dataset, batch_size=batch_size, shuffle=False, num_workers=0, pin_memory=True)\n",
    "\n",
    "for batch, (X, y) in enumerate(train_loader):\n",
    "\n",
    "    print(X.shape, y.shape)\n",
    "    if batch == 3:\n",
    "        break\n",
    "\n",
    "#dimensiuni: cat mai patrat - 128x128\n",
    "\n",
    "classes = ['down', 'left', 'right', 'stop', 'up']"
   ]
  },
  {
   "cell_type": "code",
   "execution_count": 3,
   "metadata": {},
   "outputs": [],
   "source": [
    "import torch.nn as nn\n",
    "import torch.nn.functional as F\n",
    "\n",
    "class SimplifiedWaveNet(nn.Module):\n",
    "    def __init__(self, num_classes, num_channels=1, num_layers=4, num_filters=8, dilation_rates=None):\n",
    "        super(SimplifiedWaveNet, self).__init__()\n",
    "        self.num_layers = num_layers\n",
    "        \n",
    "        self.init_conv = nn.Conv1d(num_channels, num_filters, kernel_size=1)\n",
    "\n",
    "        self.conv1 = nn.Conv1d(num_filters, num_filters * 2, kernel_size=3, padding=1, dilation=2)\n",
    "        self.conv2 = nn.Conv1d(num_filters * 2, num_filters * 4, kernel_size=3, padding=2, dilation=4)\n",
    "        self.conv3 = nn.Conv1d(num_filters * 4, num_filters * 8, kernel_size=3, padding=4, dilation=8)\n",
    "        self.conv4 = nn.Conv1d(num_filters * 8, num_filters * 16, kernel_size=3, padding=8, dilation=16)\n",
    "\n",
    "        self.pool = nn.MaxPool1d(4)\n",
    "\n",
    "        self.final_conv = nn.Conv1d(256, 128, kernel_size=1)\n",
    "        self.linear = nn.Linear(128 * 57 * 1, 256)\n",
    "        self.linear2 = nn.Linear(256, num_classes)\n",
    "\n",
    "    def forward(self, x):\n",
    "        x = self.init_conv(x)\n",
    "        x1 = self.pool(F.relu(self.conv1(x)))\n",
    "        x2 = self.pool(F.relu(self.conv2(x1)))\n",
    "        x3 = self.pool(F.relu(self.conv3(x2)))\n",
    "        x4 = self.pool(F.relu(self.conv4(x3)))\n",
    "        x5 = self.final_conv(x4)\n",
    "        # print(x4.shape)\n",
    "        x5 = x5.view(x5.size(0), -1)\n",
    "        x6 = F.relu(self.linear(x5))\n",
    "        x7 = self.linear2(x6)\n",
    "        return x7\n",
    "\n",
    "\n",
    "\n",
    "def get_simplified_wavenet(num_classes, num_channels=1, num_layers=3, num_filters=16, dilation_rates=None, device='cpu'):\n",
    "    model = SimplifiedWaveNet(num_classes, num_channels, num_layers, num_filters, dilation_rates)\n",
    "    return model.to(device)\n",
    "\n",
    "model=get_simplified_wavenet(5)\n",
    "\n",
    "\n",
    "import torch.optim as optim \n",
    "\n",
    "# Define the optimizer and loss function\n",
    "optimizer = optim.Adam(model.parameters(), lr=0.0001)  # Reduced learning rate\n",
    "criterion = nn.CrossEntropyLoss()\n"
   ]
  },
  {
   "cell_type": "code",
   "execution_count": 6,
   "metadata": {},
   "outputs": [],
   "source": [
    "\n",
    "# Training function\n",
    "def train(model, device, train_loader, optimizer, epoch, log_interval, scheduler):\n",
    "    model.train()\n",
    "    running_loss = 0.0\n",
    "    correct = 0\n",
    "    train_losses = []\n",
    "    train_accuracies = []\n",
    "    for batch_idx, (data, target) in enumerate(train_loader):\n",
    "        data, target = data.to(device), target.to(device)\n",
    "        optimizer.zero_grad()\n",
    "        # data =data.repeat(1, 3, 1, 1)\n",
    "        # data = data.squeeze(1)  # Remove channel dimension\n",
    "        output = model(data)\n",
    "        loss = criterion(output, target)\n",
    "        loss.backward()\n",
    "        optimizer.step()\n",
    "        running_loss += loss.item()\n",
    "        pred = output.argmax(dim=1, keepdim=True)\n",
    "        correct += pred.eq(target.view_as(pred)).sum().item()\n",
    "        if batch_idx % log_interval == 0:\n",
    "            print(f'Train Epoch: {epoch} [{batch_idx * len(data)}/{len(train_loader.dataset)} ({100. * batch_idx / len(train_loader):.0f}%)]\\tLoss: {loss.item():.6f}')\n",
    "    avg_loss = running_loss / len(train_loader)\n",
    "    accuracy = 100. * correct / len(train_loader.dataset)\n",
    "    train_losses.append(avg_loss)\n",
    "    train_accuracies.append(accuracy)\n",
    "    scheduler.step()\n",
    "    return avg_loss, accuracy\n",
    "\n",
    "def number_of_correct(pred, target):\n",
    "    return pred.squeeze().eq(target).sum().item()\n",
    "\n",
    "def get_likely_index(tensor):\n",
    "    return tensor.argmax(dim=-1)\n",
    "\n",
    "all_preds = []\n",
    "all_targets = []\n",
    "# Testing function\n",
    "def test(model, device, test_loader):\n",
    "    model.eval()\n",
    "    test_loss = 0.0\n",
    "    correct = 0\n",
    "    test_losses = []\n",
    "    test_accuracies = []\n",
    "   \n",
    "    with torch.no_grad():\n",
    "        for data, target in test_loader:\n",
    "            data, target = data.to(device), target.to(device)\n",
    "            # data = data.repeat(1, 3, 1, 1)\n",
    "            output = model(data)\n",
    "            loss = criterion(output, target)\n",
    "            test_loss += loss.item() * data.size(0)  # Accumulate the loss\n",
    "            pred = output.argmax(dim=1, keepdim=True)\n",
    "            correct += pred.eq(target.view_as(pred)).sum().item()\n",
    "            all_preds.extend(pred.cpu().numpy())\n",
    "            all_targets.extend(target.cpu().numpy())\n",
    "\n",
    "    avg_test_loss = test_loss / len(test_loader.dataset)  # Calculate average loss\n",
    "    accuracy = 100. * correct / len(test_loader.dataset)\n",
    "    test_losses.append(avg_test_loss)\n",
    "    test_accuracies.append(accuracy)\n",
    "    print(f'\\nTest set: Average loss: {avg_test_loss:.4f}, Accuracy: {correct}/{len(test_loader.dataset)} ({accuracy:.0f}%)\\n')\n",
    "    return avg_test_loss, accuracy, all_preds, all_targets\n"
   ]
  },
  {
   "cell_type": "code",
   "execution_count": 11,
   "metadata": {},
   "outputs": [
    {
     "name": "stderr",
     "output_type": "stream",
     "text": [
      "  0%|          | 0/10 [00:00<?, ?it/s]"
     ]
    },
    {
     "name": "stdout",
     "output_type": "stream",
     "text": [
      "Train Epoch: 1 [0/13363 (0%)]\tLoss: 0.250087\n",
      "Train Epoch: 1 [1280/13363 (10%)]\tLoss: 0.152187\n",
      "Train Epoch: 1 [2560/13363 (19%)]\tLoss: 0.334436\n",
      "Train Epoch: 1 [3840/13363 (29%)]\tLoss: 0.294614\n",
      "Train Epoch: 1 [5120/13363 (38%)]\tLoss: 0.391946\n",
      "Train Epoch: 1 [6400/13363 (48%)]\tLoss: 0.324989\n",
      "Train Epoch: 1 [7680/13363 (57%)]\tLoss: 0.193525\n",
      "Train Epoch: 1 [8960/13363 (67%)]\tLoss: 0.222321\n",
      "Train Epoch: 1 [10240/13363 (77%)]\tLoss: 0.178777\n",
      "Train Epoch: 1 [11520/13363 (86%)]\tLoss: 0.434090\n",
      "Train Epoch: 1 [12800/13363 (96%)]\tLoss: 0.361163\n"
     ]
    },
    {
     "name": "stderr",
     "output_type": "stream",
     "text": [
      " 10%|█         | 1/10 [02:42<24:22, 162.46s/it]"
     ]
    },
    {
     "name": "stdout",
     "output_type": "stream",
     "text": [
      "\n",
      "Test set: Average loss: 0.3820, Accuracy: 3296/3818 (86%)\n",
      "\n",
      "Train Epoch: 2 [0/13363 (0%)]\tLoss: 0.139321\n",
      "Train Epoch: 2 [1280/13363 (10%)]\tLoss: 0.262853\n",
      "Train Epoch: 2 [2560/13363 (19%)]\tLoss: 0.452480\n",
      "Train Epoch: 2 [3840/13363 (29%)]\tLoss: 0.318135\n",
      "Train Epoch: 2 [5120/13363 (38%)]\tLoss: 0.347080\n",
      "Train Epoch: 2 [6400/13363 (48%)]\tLoss: 0.246928\n",
      "Train Epoch: 2 [7680/13363 (57%)]\tLoss: 0.223522\n",
      "Train Epoch: 2 [8960/13363 (67%)]\tLoss: 0.095664\n",
      "Train Epoch: 2 [10240/13363 (77%)]\tLoss: 0.149891\n",
      "Train Epoch: 2 [11520/13363 (86%)]\tLoss: 0.293727\n",
      "Train Epoch: 2 [12800/13363 (96%)]\tLoss: 0.175024\n"
     ]
    },
    {
     "name": "stderr",
     "output_type": "stream",
     "text": [
      " 20%|██        | 2/10 [05:28<21:57, 164.72s/it]"
     ]
    },
    {
     "name": "stdout",
     "output_type": "stream",
     "text": [
      "\n",
      "Test set: Average loss: 0.3747, Accuracy: 3308/3818 (87%)\n",
      "\n",
      "Train Epoch: 3 [0/13363 (0%)]\tLoss: 0.463097\n",
      "Train Epoch: 3 [1280/13363 (10%)]\tLoss: 0.374649\n",
      "Train Epoch: 3 [2560/13363 (19%)]\tLoss: 0.172160\n",
      "Train Epoch: 3 [3840/13363 (29%)]\tLoss: 0.098572\n",
      "Train Epoch: 3 [5120/13363 (38%)]\tLoss: 0.455465\n",
      "Train Epoch: 3 [6400/13363 (48%)]\tLoss: 0.186845\n",
      "Train Epoch: 3 [7680/13363 (57%)]\tLoss: 0.191107\n",
      "Train Epoch: 3 [8960/13363 (67%)]\tLoss: 0.418233\n",
      "Train Epoch: 3 [10240/13363 (77%)]\tLoss: 0.305396\n",
      "Train Epoch: 3 [11520/13363 (86%)]\tLoss: 0.378568\n",
      "Train Epoch: 3 [12800/13363 (96%)]\tLoss: 0.193174\n"
     ]
    },
    {
     "name": "stderr",
     "output_type": "stream",
     "text": [
      " 30%|███       | 3/10 [07:50<18:00, 154.42s/it]"
     ]
    },
    {
     "name": "stdout",
     "output_type": "stream",
     "text": [
      "\n",
      "Test set: Average loss: 0.3534, Accuracy: 3345/3818 (88%)\n",
      "\n",
      "Train Epoch: 4 [0/13363 (0%)]\tLoss: 0.170642\n",
      "Train Epoch: 4 [1280/13363 (10%)]\tLoss: 0.212223\n",
      "Train Epoch: 4 [2560/13363 (19%)]\tLoss: 0.217012\n",
      "Train Epoch: 4 [3840/13363 (29%)]\tLoss: 0.348144\n",
      "Train Epoch: 4 [5120/13363 (38%)]\tLoss: 0.295581\n",
      "Train Epoch: 4 [6400/13363 (48%)]\tLoss: 0.219701\n",
      "Train Epoch: 4 [7680/13363 (57%)]\tLoss: 0.095555\n",
      "Train Epoch: 4 [8960/13363 (67%)]\tLoss: 0.206161\n",
      "Train Epoch: 4 [10240/13363 (77%)]\tLoss: 0.219153\n",
      "Train Epoch: 4 [11520/13363 (86%)]\tLoss: 0.231829\n",
      "Train Epoch: 4 [12800/13363 (96%)]\tLoss: 0.314036\n"
     ]
    },
    {
     "name": "stderr",
     "output_type": "stream",
     "text": [
      " 40%|████      | 4/10 [10:16<15:06, 151.02s/it]"
     ]
    },
    {
     "name": "stdout",
     "output_type": "stream",
     "text": [
      "\n",
      "Test set: Average loss: 0.3411, Accuracy: 3360/3818 (88%)\n",
      "\n",
      "Train Epoch: 5 [0/13363 (0%)]\tLoss: 0.174551\n",
      "Train Epoch: 5 [1280/13363 (10%)]\tLoss: 0.190760\n",
      "Train Epoch: 5 [2560/13363 (19%)]\tLoss: 0.257675\n",
      "Train Epoch: 5 [3840/13363 (29%)]\tLoss: 0.228831\n",
      "Train Epoch: 5 [5120/13363 (38%)]\tLoss: 0.197727\n",
      "Train Epoch: 5 [6400/13363 (48%)]\tLoss: 0.461462\n",
      "Train Epoch: 5 [7680/13363 (57%)]\tLoss: 0.125373\n",
      "Train Epoch: 5 [8960/13363 (67%)]\tLoss: 0.250510\n",
      "Train Epoch: 5 [10240/13363 (77%)]\tLoss: 0.236157\n",
      "Train Epoch: 5 [11520/13363 (86%)]\tLoss: 0.269428\n",
      "Train Epoch: 5 [12800/13363 (96%)]\tLoss: 0.091019\n"
     ]
    },
    {
     "name": "stderr",
     "output_type": "stream",
     "text": [
      " 50%|█████     | 5/10 [12:53<12:44, 152.95s/it]"
     ]
    },
    {
     "name": "stdout",
     "output_type": "stream",
     "text": [
      "\n",
      "Test set: Average loss: 0.3326, Accuracy: 3376/3818 (88%)\n",
      "\n",
      "Train Epoch: 6 [0/13363 (0%)]\tLoss: 0.319216\n",
      "Train Epoch: 6 [1280/13363 (10%)]\tLoss: 0.225750\n",
      "Train Epoch: 6 [2560/13363 (19%)]\tLoss: 0.282435\n",
      "Train Epoch: 6 [3840/13363 (29%)]\tLoss: 0.169338\n",
      "Train Epoch: 6 [5120/13363 (38%)]\tLoss: 0.168172\n",
      "Train Epoch: 6 [6400/13363 (48%)]\tLoss: 0.169518\n",
      "Train Epoch: 6 [7680/13363 (57%)]\tLoss: 0.280445\n",
      "Train Epoch: 6 [8960/13363 (67%)]\tLoss: 0.146587\n",
      "Train Epoch: 6 [10240/13363 (77%)]\tLoss: 0.248507\n",
      "Train Epoch: 6 [11520/13363 (86%)]\tLoss: 0.206465\n",
      "Train Epoch: 6 [12800/13363 (96%)]\tLoss: 0.174343\n"
     ]
    },
    {
     "name": "stderr",
     "output_type": "stream",
     "text": [
      " 60%|██████    | 6/10 [16:03<11:03, 165.79s/it]"
     ]
    },
    {
     "name": "stdout",
     "output_type": "stream",
     "text": [
      "\n",
      "Test set: Average loss: 0.3484, Accuracy: 3353/3818 (88%)\n",
      "\n",
      "Train Epoch: 7 [0/13363 (0%)]\tLoss: 0.142101\n",
      "Train Epoch: 7 [1280/13363 (10%)]\tLoss: 0.211613\n",
      "Train Epoch: 7 [2560/13363 (19%)]\tLoss: 0.264292\n",
      "Train Epoch: 7 [3840/13363 (29%)]\tLoss: 0.184442\n",
      "Train Epoch: 7 [5120/13363 (38%)]\tLoss: 0.203195\n",
      "Train Epoch: 7 [6400/13363 (48%)]\tLoss: 0.095269\n",
      "Train Epoch: 7 [7680/13363 (57%)]\tLoss: 0.104905\n",
      "Train Epoch: 7 [8960/13363 (67%)]\tLoss: 0.250888\n",
      "Train Epoch: 7 [10240/13363 (77%)]\tLoss: 0.145400\n",
      "Train Epoch: 7 [11520/13363 (86%)]\tLoss: 0.182825\n",
      "Train Epoch: 7 [12800/13363 (96%)]\tLoss: 0.241391\n"
     ]
    },
    {
     "name": "stderr",
     "output_type": "stream",
     "text": [
      " 70%|███████   | 7/10 [18:53<08:20, 166.96s/it]"
     ]
    },
    {
     "name": "stdout",
     "output_type": "stream",
     "text": [
      "\n",
      "Test set: Average loss: 0.3226, Accuracy: 3396/3818 (89%)\n",
      "\n",
      "Train Epoch: 8 [0/13363 (0%)]\tLoss: 0.216786\n",
      "Train Epoch: 8 [1280/13363 (10%)]\tLoss: 0.145195\n",
      "Train Epoch: 8 [2560/13363 (19%)]\tLoss: 0.067711\n",
      "Train Epoch: 8 [3840/13363 (29%)]\tLoss: 0.168424\n",
      "Train Epoch: 8 [5120/13363 (38%)]\tLoss: 0.084001\n",
      "Train Epoch: 8 [6400/13363 (48%)]\tLoss: 0.190858\n",
      "Train Epoch: 8 [7680/13363 (57%)]\tLoss: 0.166975\n",
      "Train Epoch: 8 [8960/13363 (67%)]\tLoss: 0.216834\n",
      "Train Epoch: 8 [10240/13363 (77%)]\tLoss: 0.314340\n",
      "Train Epoch: 8 [11520/13363 (86%)]\tLoss: 0.181929\n",
      "Train Epoch: 8 [12800/13363 (96%)]\tLoss: 0.230772\n"
     ]
    },
    {
     "name": "stderr",
     "output_type": "stream",
     "text": [
      " 80%|████████  | 8/10 [21:53<05:42, 171.24s/it]"
     ]
    },
    {
     "name": "stdout",
     "output_type": "stream",
     "text": [
      "\n",
      "Test set: Average loss: 0.3493, Accuracy: 3360/3818 (88%)\n",
      "\n",
      "Train Epoch: 9 [0/13363 (0%)]\tLoss: 0.169857\n",
      "Train Epoch: 9 [1280/13363 (10%)]\tLoss: 0.174552\n",
      "Train Epoch: 9 [2560/13363 (19%)]\tLoss: 0.132311\n",
      "Train Epoch: 9 [3840/13363 (29%)]\tLoss: 0.197300\n",
      "Train Epoch: 9 [5120/13363 (38%)]\tLoss: 0.102281\n",
      "Train Epoch: 9 [6400/13363 (48%)]\tLoss: 0.389540\n",
      "Train Epoch: 9 [7680/13363 (57%)]\tLoss: 0.134782\n",
      "Train Epoch: 9 [8960/13363 (67%)]\tLoss: 0.164998\n",
      "Train Epoch: 9 [10240/13363 (77%)]\tLoss: 0.158581\n",
      "Train Epoch: 9 [11520/13363 (86%)]\tLoss: 0.143611\n",
      "Train Epoch: 9 [12800/13363 (96%)]\tLoss: 0.137646\n"
     ]
    },
    {
     "name": "stderr",
     "output_type": "stream",
     "text": [
      " 90%|█████████ | 9/10 [24:31<02:46, 166.98s/it]"
     ]
    },
    {
     "name": "stdout",
     "output_type": "stream",
     "text": [
      "\n",
      "Test set: Average loss: 0.3228, Accuracy: 3410/3818 (89%)\n",
      "\n",
      "Train Epoch: 10 [0/13363 (0%)]\tLoss: 0.135524\n",
      "Train Epoch: 10 [1280/13363 (10%)]\tLoss: 0.137099\n",
      "Train Epoch: 10 [2560/13363 (19%)]\tLoss: 0.166121\n",
      "Train Epoch: 10 [3840/13363 (29%)]\tLoss: 0.179528\n",
      "Train Epoch: 10 [5120/13363 (38%)]\tLoss: 0.190773\n",
      "Train Epoch: 10 [6400/13363 (48%)]\tLoss: 0.185185\n",
      "Train Epoch: 10 [7680/13363 (57%)]\tLoss: 0.170870\n",
      "Train Epoch: 10 [8960/13363 (67%)]\tLoss: 0.136466\n",
      "Train Epoch: 10 [10240/13363 (77%)]\tLoss: 0.204862\n",
      "Train Epoch: 10 [11520/13363 (86%)]\tLoss: 0.165322\n",
      "Train Epoch: 10 [12800/13363 (96%)]\tLoss: 0.265541\n"
     ]
    },
    {
     "name": "stderr",
     "output_type": "stream",
     "text": [
      "100%|██████████| 10/10 [27:19<00:00, 163.92s/it]"
     ]
    },
    {
     "name": "stdout",
     "output_type": "stream",
     "text": [
      "\n",
      "Test set: Average loss: 0.3296, Accuracy: 3386/3818 (89%)\n",
      "\n"
     ]
    },
    {
     "name": "stderr",
     "output_type": "stream",
     "text": [
      "\n"
     ]
    }
   ],
   "source": [
    "n_epoch = 10\n",
    "log_interval = 20\n",
    "\n",
    "import torch.optim as optim\n",
    "from tqdm import tqdm\n",
    "\n",
    "scheduler = optim.lr_scheduler.StepLR(optimizer, step_size=50, gamma=0.1)\n",
    "\n",
    "with tqdm(total=n_epoch) as pbar:\n",
    "    train_epoch_losses = []\n",
    "    train_epoch_accuracies = []\n",
    "    test_epoch_losses = []\n",
    "    test_epoch_accuracies = []\n",
    "    all_preds = []\n",
    "    all_targets = []\n",
    "    for epoch in range(1, n_epoch + 1):\n",
    "        loss, acc = train(model, device, train_loader, optimizer, epoch, log_interval, scheduler)\n",
    "        train_epoch_losses.append(loss)\n",
    "        train_epoch_accuracies.append(acc)\n",
    "\n",
    "        loss, acc, preds, targets = test(model, device, test_loader)\n",
    "        test_epoch_losses.append(loss)\n",
    "        test_epoch_accuracies.append(acc)\n",
    "        torch.save(model.state_dict(), 'vgg_gsc.pt')\n",
    "        pbar.update(1)\n"
   ]
  },
  {
   "cell_type": "code",
   "execution_count": 12,
   "metadata": {},
   "outputs": [
    {
     "name": "stdout",
     "output_type": "stream",
     "text": [
      "              precision    recall  f1-score   support\n",
      "\n",
      "        stop       0.89      0.91      0.90      7770\n",
      "          up       0.86      0.87      0.86      7160\n",
      "        down       0.86      0.81      0.83      7820\n",
      "        left       0.91      0.92      0.92      7910\n",
      "       right       0.88      0.89      0.88      7520\n",
      "\n",
      "    accuracy                           0.88     38180\n",
      "   macro avg       0.88      0.88      0.88     38180\n",
      "weighted avg       0.88      0.88      0.88     38180\n",
      "\n",
      "[[7054   74  406  150   86]\n",
      " [ 128 6199  447  136  250]\n",
      " [ 473  637 6358   95  257]\n",
      " [ 157   89   47 7249  368]\n",
      " [ 133  184  171  302 6730]]\n"
     ]
    },
    {
     "data": {
      "text/plain": [
       "(<sklearn.metrics._plot.confusion_matrix.ConfusionMatrixDisplay at 0x1a1cb750210>,\n",
       " None)"
      ]
     },
     "execution_count": 12,
     "metadata": {},
     "output_type": "execute_result"
    },
    {
     "data": {
      "image/png": "[encoded data removed]",
      "text/plain": [
       "<Figure size 640x480 with 2 Axes>"
      ]
     },
     "metadata": {},
     "output_type": "display_data"
    }
   ],
   "source": [
    "from sklearn.metrics import classification_report\n",
    "\n",
    "report = classification_report(all_targets, all_preds, target_names=['stop', 'up', 'down', 'left', 'right'])  # Adjust target_names based on your dataset\n",
    "print(report)\n",
    "from sklearn.metrics import confusion_matrix\n",
    "\n",
    "confision_matrix = confusion_matrix(all_targets, all_preds)\n",
    "#print confusion matrix and labels\n",
    "print(confision_matrix)\n",
    "\n",
    "\n",
    "# confusion matrix display using sklearn\n",
    "from sklearn.metrics import confusion_matrix, ConfusionMatrixDisplay\n",
    "\n",
    "# Assuming the confusion matrix is stored in the variable confusion_matrix\n",
    "disp = ConfusionMatrixDisplay(confusion_matrix=confision_matrix, display_labels=['stop', 'up', 'down', 'left', 'right'])\n",
    "\n",
    "#rempove the grid lines from the confusion matrix \n",
    "disp.plot(cmap='Blues', values_format='d', xticks_rotation='vertical', ax=None), plt.grid(False)\n"
   ]
  }
 ],
 "metadata": {
  "kernelspec": {
   "display_name": "Python 3",
   "language": "python",
   "name": "python3"
  },
  "language_info": {
   "codemirror_mode": {
    "name": "ipython",
    "version": 3
   },
   "file_extension": ".py",
   "mimetype": "text/x-python",
   "name": "python",
   "nbconvert_exporter": "python",
   "pygments_lexer": "ipython3",
   "version": "3.11.5"
  }
 },
 "nbformat": 4,
 "nbformat_minor": 2
}
