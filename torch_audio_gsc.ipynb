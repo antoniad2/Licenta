{
 "cells": [
  {
   "cell_type": "markdown",
   "metadata": {},
   "source": [
    "    SPEECH RECOGNITION"
   ]
  },
  {
   "cell_type": "code",
   "execution_count": 6,
   "metadata": {},
   "outputs": [
    {
     "name": "stdout",
     "output_type": "stream",
     "text": [
      "cpu\n"
     ]
    }
   ],
   "source": [
    "import torch\n",
    "\n",
    "device = torch.device(\"cuda\" if torch.cuda.is_available() else \"cpu\")\n",
    "print(device)"
   ]
  },
  {
   "cell_type": "code",
   "execution_count": 2,
   "metadata": {},
   "outputs": [
    {
     "name": "stdout",
     "output_type": "stream",
     "text": [
      "(tensor([[ 0.0000,  0.0000,  0.0000,  ..., -0.0458,  0.0068,  0.0377]]), 1)\n",
      "(tensor([[-0.0005, -0.0052,  0.0002,  ...,  0.0111,  0.0040,  0.0000]]), 4)\n",
      "(tensor([[0.0018, 0.0032, 0.0043,  ..., 0.0025, 0.0015, 0.0013]]), 2)\n"
     ]
    }
   ],
   "source": [
    "import pandas as pd\n",
    "from torch.utils.data import Dataset\n",
    "import os\n",
    "import torchaudio\n",
    "\n",
    "class My_Dataset(Dataset):\n",
    "\n",
    "    def __init__(self, csv_file, root_dir, set_number):\n",
    "        \"\"\"\n",
    "        Arguments:\n",
    "            csv_file (string): Path to the csv file with annotations.\n",
    "            root_dir (string): Directory with all the audio files.\n",
    "            set_number (int): Set number to filter the samples.\n",
    "        \"\"\"\n",
    "        self.data = pd.read_csv(csv_file)\n",
    "        self.root_dir = root_dir\n",
    "        self.set_number = set_number\n",
    "        self.filtered_indices = self.filter()\n",
    "\n",
    "    def __len__(self):\n",
    "        return len(self.filtered_indices)\n",
    "\n",
    "    def filter(self):\n",
    "        filtered_indices = []\n",
    "        for idx in range(len(self.data)):\n",
    "            set_value = int(self.data.iloc[idx, 1])\n",
    "            if set_value == self.set_number:\n",
    "                filtered_indices.append(idx)\n",
    "        return filtered_indices\n",
    "\n",
    "    def __getitem__(self, idx):\n",
    "        idx = self.filtered_indices[idx]\n",
    "        file = os.path.join(self.root_dir, self.data.iloc[idx, 0])\n",
    "        class_label = int(self.data.iloc[idx, 2])\n",
    "        waveform, _ = torchaudio.load(file)\n",
    "        return waveform, class_label\n",
    "\n",
    "csv_file = 'dataset_2.csv'\n",
    "root_dir = 'dataset'\n",
    "train_dataset = My_Dataset(csv_file, root_dir, 0)\n",
    "test_dataset = My_Dataset(csv_file, root_dir, 1)\n",
    "valid_dataset = My_Dataset(csv_file, root_dir, 2)\n",
    "print(train_dataset[0])\n",
    "print(test_dataset[0])\n",
    "print(valid_dataset[0])\n"
   ]
  },
  {
   "cell_type": "code",
   "execution_count": 3,
   "metadata": {},
   "outputs": [
    {
     "name": "stdout",
     "output_type": "stream",
     "text": [
      "torch.Size([64, 1, 16000]) torch.Size([64])\n",
      "torch.Size([64, 1, 16000]) torch.Size([64])\n",
      "torch.Size([64, 1, 16000]) torch.Size([64])\n",
      "torch.Size([64, 1, 16000]) torch.Size([64])\n"
     ]
    }
   ],
   "source": [
    "import matplotlib.pyplot as plt\n",
    "import os\n",
    "from torch.utils.data import DataLoader\n",
    "# from torchvision import datasets\n",
    "from torchvision.transforms import ToTensor\n",
    "plt.style.use('ggplot')\n",
    "\n",
    "batch_size = 64\n",
    "train_loader = DataLoader(train_dataset, batch_size=batch_size, shuffle=True, num_workers=0, pin_memory=True)\n",
    "valid_loader = DataLoader(valid_dataset, batch_size=batch_size, shuffle=False, num_workers=0, pin_memory=True)\n",
    "test_loader = DataLoader(test_dataset, batch_size=batch_size, shuffle=False, num_workers=0, pin_memory=True)\n",
    "\n",
    "for batch, (X, y) in enumerate(train_loader):\n",
    "\n",
    "    print(X.shape, y.shape)\n",
    "    if batch == 3:\n",
    "        break\n",
    "\n",
    "#dimensiuni: cat mai patrat - 128x128\n",
    "    "
   ]
  },
  {
   "cell_type": "code",
   "execution_count": 4,
   "metadata": {},
   "outputs": [],
   "source": [
    "classes = ['down', 'left', 'right', 'stop', 'up']"
   ]
  },
  {
   "cell_type": "code",
   "execution_count": 7,
   "metadata": {},
   "outputs": [
    {
     "name": "stdout",
     "output_type": "stream",
     "text": [
      "M4(\n",
      "  (conv1): Conv1d(1, 32, kernel_size=(80,), stride=(16,))\n",
      "  (bn1): BatchNorm1d(32, eps=1e-05, momentum=0.1, affine=True, track_running_stats=True)\n",
      "  (pool1): MaxPool1d(kernel_size=4, stride=4, padding=0, dilation=1, ceil_mode=False)\n",
      "  (conv2): Conv1d(32, 32, kernel_size=(3,), stride=(1,))\n",
      "  (bn2): BatchNorm1d(32, eps=1e-05, momentum=0.1, affine=True, track_running_stats=True)\n",
      "  (pool2): MaxPool1d(kernel_size=4, stride=4, padding=0, dilation=1, ceil_mode=False)\n",
      "  (conv3): Conv1d(32, 64, kernel_size=(3,), stride=(1,))\n",
      "  (bn3): BatchNorm1d(64, eps=1e-05, momentum=0.1, affine=True, track_running_stats=True)\n",
      "  (pool3): MaxPool1d(kernel_size=4, stride=4, padding=0, dilation=1, ceil_mode=False)\n",
      "  (conv4): Conv1d(64, 64, kernel_size=(3,), stride=(1,))\n",
      "  (bn4): BatchNorm1d(64, eps=1e-05, momentum=0.1, affine=True, track_running_stats=True)\n",
      "  (pool4): MaxPool1d(kernel_size=4, stride=4, padding=0, dilation=1, ceil_mode=False)\n",
      "  (fc1): Linear(in_features=64, out_features=5, bias=True)\n",
      ")\n",
      "Number of parameters: 24965\n"
     ]
    }
   ],
   "source": [
    "import torch.nn as nn\n",
    "import torch.nn.functional as F\n",
    "\n",
    "class M4(nn.Module):\n",
    "    def __init__(self, n_input=1, n_output=5, stride=16, n_channel=32):\n",
    "        super().__init__()\n",
    "        self.conv1 = nn.Conv1d(n_input, n_channel, kernel_size=80, stride=stride)\n",
    "        self.bn1 = nn.BatchNorm1d(n_channel)\n",
    "        self.pool1 = nn.MaxPool1d(4)\n",
    "        self.conv2 = nn.Conv1d(n_channel, n_channel, kernel_size=3)\n",
    "        self.bn2 = nn.BatchNorm1d(n_channel)\n",
    "        self.pool2 = nn.MaxPool1d(4)\n",
    "        self.conv3 = nn.Conv1d(n_channel, 2 * n_channel, kernel_size=3)\n",
    "        self.bn3 = nn.BatchNorm1d(2 * n_channel)\n",
    "        self.pool3 = nn.MaxPool1d(4)\n",
    "        self.conv4 = nn.Conv1d(2 * n_channel, 2 * n_channel, kernel_size=3)\n",
    "        self.bn4 = nn.BatchNorm1d(2 * n_channel)\n",
    "        self.pool4 = nn.MaxPool1d(4)\n",
    "        # self.fc1 = nn.Linear(2 * n_channel, n_output)\n",
    "        self.fc1 = nn.LazyLinear(n_output)\n",
    "    \n",
    "\n",
    "    def forward(self, x):\n",
    "        x = self.conv1(x)\n",
    "        x = F.relu(self.bn1(x))\n",
    "        x = self.pool1(x)\n",
    "        x = self.conv2(x)\n",
    "        x = F.relu(self.bn2(x))\n",
    "        x = self.pool2(x)\n",
    "        x = self.conv3(x)\n",
    "        x = F.relu(self.bn3(x))\n",
    "        x = self.pool3(x)\n",
    "        x = self.conv4(x)\n",
    "        x = F.relu(self.bn4(x))\n",
    "        x = self.pool4(x)\n",
    "        x = F.avg_pool1d(x, x.shape[-1])\n",
    "        x = x.permute(0, 2, 1)\n",
    "        x = self.fc1(x)\n",
    "        x = x.squeeze(1)\n",
    "        return F.log_softmax(x, dim=1)\n",
    "\n",
    "\n",
    "model = M4(n_input=1, n_output=len(classes))\n",
    "model.to(device)\n",
    "model(torch.randn([64, 1, 16000]))\n",
    "print(model)\n",
    "\n",
    "\n",
    "def count_parameters(model):\n",
    "    return sum(p.numel() for p in model.parameters() if p.requires_grad)\n",
    "\n",
    "\n",
    "n = count_parameters(model)\n",
    "print(\"Number of parameters: %s\" % n)"
   ]
  },
  {
   "cell_type": "code",
   "execution_count": 11,
   "metadata": {},
   "outputs": [],
   "source": [
    "import torch.optim as optim\n",
    "import torch.optim.lr_scheduler as lr_scheduler\n",
    "\n",
    "optimizer = optim.Adam(model.parameters(), lr=0.001, weight_decay=0.0001)\n",
    "scheduler = optim.lr_scheduler.StepLR(optimizer, step_size=20, gamma=0.1) \n",
    "criterion = nn.CrossEntropyLoss()"
   ]
  },
  {
   "cell_type": "code",
   "execution_count": 12,
   "metadata": {},
   "outputs": [],
   "source": [
    "\n",
    "# Training function\n",
    "def train(model, device, train_loader, optimizer, epoch, log_interval, scheduler):\n",
    "    model.train()\n",
    "    running_loss = 0.0\n",
    "    correct = 0\n",
    "    train_losses = []\n",
    "    train_accuracies = []\n",
    "    for batch_idx, (data, target) in enumerate(train_loader):\n",
    "        data, target = data.to(device), target.to(device)\n",
    "        optimizer.zero_grad()\n",
    "        # data =data.repeat(1, 3, 1, 1)\n",
    "        # data = data.squeeze(1)  # Remove channel dimension\n",
    "        output = model(data)\n",
    "        loss = criterion(output, target)\n",
    "        loss.backward()\n",
    "        optimizer.step()\n",
    "        running_loss += loss.item()\n",
    "        pred = output.argmax(dim=1, keepdim=True)\n",
    "        correct += pred.eq(target.view_as(pred)).sum().item()\n",
    "        if batch_idx % log_interval == 0:\n",
    "            print(f'Train Epoch: {epoch} [{batch_idx * len(data)}/{len(train_loader.dataset)} ({100. * batch_idx / len(train_loader):.0f}%)]\\tLoss: {loss.item():.6f}')\n",
    "    avg_loss = running_loss / len(train_loader)\n",
    "    accuracy = 100. * correct / len(train_loader.dataset)\n",
    "    train_losses.append(avg_loss)\n",
    "    train_accuracies.append(accuracy)\n",
    "    scheduler.step()\n",
    "    return avg_loss, accuracy"
   ]
  },
  {
   "cell_type": "code",
   "execution_count": 13,
   "metadata": {},
   "outputs": [],
   "source": [
    "def number_of_correct(pred, target):\n",
    "    return pred.squeeze().eq(target).sum().item()\n",
    "\n",
    "def get_likely_index(tensor):\n",
    "    return tensor.argmax(dim=-1)\n",
    "\n",
    "all_preds = []\n",
    "all_targets = []\n",
    "# Testing function\n",
    "def test(model, device, test_loader):\n",
    "    model.eval()\n",
    "    test_loss = 0.0\n",
    "    correct = 0\n",
    "    test_losses = []\n",
    "    test_accuracies = []\n",
    "   \n",
    "    with torch.no_grad():\n",
    "        for data, target in test_loader:\n",
    "            data, target = data.to(device), target.to(device)\n",
    "            # data = data.repeat(1, 3, 1, 1)\n",
    "            output = model(data)\n",
    "            loss = criterion(output, target)\n",
    "            test_loss += loss.item() * data.size(0)  # Accumulate the loss\n",
    "            pred = output.argmax(dim=1, keepdim=True)\n",
    "            correct += pred.eq(target.view_as(pred)).sum().item()\n",
    "            all_preds.extend(pred.cpu().numpy())\n",
    "            all_targets.extend(target.cpu().numpy())\n",
    "\n",
    "    avg_test_loss = test_loss / len(test_loader.dataset)  # Calculate average loss\n",
    "    accuracy = 100. * correct / len(test_loader.dataset)\n",
    "    test_losses.append(avg_test_loss)\n",
    "    test_accuracies.append(accuracy)\n",
    "    print(f'\\nTest set: Average loss: {avg_test_loss:.4f}, Accuracy: {correct}/{len(test_loader.dataset)} ({accuracy:.0f}%)\\n')\n",
    "    return avg_test_loss, accuracy, all_preds, all_targets\n"
   ]
  },
  {
   "cell_type": "code",
   "execution_count": 14,
   "metadata": {},
   "outputs": [
    {
     "name": "stderr",
     "output_type": "stream",
     "text": [
      "  0%|          | 0/5 [00:00<?, ?it/s]"
     ]
    },
    {
     "name": "stdout",
     "output_type": "stream",
     "text": [
      "Train Epoch: 1 [0/13363 (0%)]\tLoss: 1.640365\n",
      "Train Epoch: 1 [1280/13363 (10%)]\tLoss: 1.332633\n",
      "Train Epoch: 1 [2560/13363 (19%)]\tLoss: 1.186455\n",
      "Train Epoch: 1 [3840/13363 (29%)]\tLoss: 0.952115\n",
      "Train Epoch: 1 [5120/13363 (38%)]\tLoss: 0.853448\n",
      "Train Epoch: 1 [6400/13363 (48%)]\tLoss: 0.690528\n",
      "Train Epoch: 1 [7680/13363 (57%)]\tLoss: 0.710920\n",
      "Train Epoch: 1 [8960/13363 (67%)]\tLoss: 0.537639\n",
      "Train Epoch: 1 [10240/13363 (77%)]\tLoss: 0.496281\n",
      "Train Epoch: 1 [11520/13363 (86%)]\tLoss: 0.430941\n",
      "Train Epoch: 1 [12800/13363 (96%)]\tLoss: 0.478899\n"
     ]
    },
    {
     "name": "stderr",
     "output_type": "stream",
     "text": [
      " 20%|██        | 1/5 [00:16<01:06, 16.68s/it]"
     ]
    },
    {
     "name": "stdout",
     "output_type": "stream",
     "text": [
      "\n",
      "Test set: Average loss: 0.4552, Accuracy: 3307/3818 (87%)\n",
      "\n",
      "Train Epoch: 2 [0/13363 (0%)]\tLoss: 0.467527\n",
      "Train Epoch: 2 [1280/13363 (10%)]\tLoss: 0.392694\n",
      "Train Epoch: 2 [2560/13363 (19%)]\tLoss: 0.394011\n",
      "Train Epoch: 2 [3840/13363 (29%)]\tLoss: 0.209575\n",
      "Train Epoch: 2 [5120/13363 (38%)]\tLoss: 0.336870\n",
      "Train Epoch: 2 [6400/13363 (48%)]\tLoss: 0.398443\n",
      "Train Epoch: 2 [7680/13363 (57%)]\tLoss: 0.317127\n",
      "Train Epoch: 2 [8960/13363 (67%)]\tLoss: 0.305235\n",
      "Train Epoch: 2 [10240/13363 (77%)]\tLoss: 0.335171\n",
      "Train Epoch: 2 [11520/13363 (86%)]\tLoss: 0.310143\n",
      "Train Epoch: 2 [12800/13363 (96%)]\tLoss: 0.435538\n"
     ]
    },
    {
     "name": "stderr",
     "output_type": "stream",
     "text": [
      " 40%|████      | 2/5 [00:33<00:50, 16.98s/it]"
     ]
    },
    {
     "name": "stdout",
     "output_type": "stream",
     "text": [
      "\n",
      "Test set: Average loss: 0.2791, Accuracy: 3519/3818 (92%)\n",
      "\n",
      "Train Epoch: 3 [0/13363 (0%)]\tLoss: 0.252683\n",
      "Train Epoch: 3 [1280/13363 (10%)]\tLoss: 0.142392\n",
      "Train Epoch: 3 [2560/13363 (19%)]\tLoss: 0.231163\n",
      "Train Epoch: 3 [3840/13363 (29%)]\tLoss: 0.179339\n",
      "Train Epoch: 3 [5120/13363 (38%)]\tLoss: 0.261684\n",
      "Train Epoch: 3 [6400/13363 (48%)]\tLoss: 0.148048\n",
      "Train Epoch: 3 [7680/13363 (57%)]\tLoss: 0.191218\n",
      "Train Epoch: 3 [8960/13363 (67%)]\tLoss: 0.291033\n",
      "Train Epoch: 3 [10240/13363 (77%)]\tLoss: 0.141227\n",
      "Train Epoch: 3 [11520/13363 (86%)]\tLoss: 0.156602\n",
      "Train Epoch: 3 [12800/13363 (96%)]\tLoss: 0.166415\n"
     ]
    },
    {
     "name": "stderr",
     "output_type": "stream",
     "text": [
      " 60%|██████    | 3/5 [00:53<00:36, 18.12s/it]"
     ]
    },
    {
     "name": "stdout",
     "output_type": "stream",
     "text": [
      "\n",
      "Test set: Average loss: 0.2129, Accuracy: 3581/3818 (94%)\n",
      "\n",
      "Train Epoch: 4 [0/13363 (0%)]\tLoss: 0.234613\n",
      "Train Epoch: 4 [1280/13363 (10%)]\tLoss: 0.155592\n",
      "Train Epoch: 4 [2560/13363 (19%)]\tLoss: 0.099231\n",
      "Train Epoch: 4 [3840/13363 (29%)]\tLoss: 0.238979\n",
      "Train Epoch: 4 [5120/13363 (38%)]\tLoss: 0.198776\n",
      "Train Epoch: 4 [6400/13363 (48%)]\tLoss: 0.125842\n",
      "Train Epoch: 4 [7680/13363 (57%)]\tLoss: 0.191110\n",
      "Train Epoch: 4 [8960/13363 (67%)]\tLoss: 0.117572\n",
      "Train Epoch: 4 [10240/13363 (77%)]\tLoss: 0.298072\n",
      "Train Epoch: 4 [11520/13363 (86%)]\tLoss: 0.211835\n",
      "Train Epoch: 4 [12800/13363 (96%)]\tLoss: 0.115295\n"
     ]
    },
    {
     "name": "stderr",
     "output_type": "stream",
     "text": [
      " 80%|████████  | 4/5 [01:15<00:19, 19.54s/it]"
     ]
    },
    {
     "name": "stdout",
     "output_type": "stream",
     "text": [
      "\n",
      "Test set: Average loss: 0.1832, Accuracy: 3613/3818 (95%)\n",
      "\n",
      "Train Epoch: 5 [0/13363 (0%)]\tLoss: 0.128076\n",
      "Train Epoch: 5 [1280/13363 (10%)]\tLoss: 0.149494\n",
      "Train Epoch: 5 [2560/13363 (19%)]\tLoss: 0.118269\n",
      "Train Epoch: 5 [3840/13363 (29%)]\tLoss: 0.117214\n",
      "Train Epoch: 5 [5120/13363 (38%)]\tLoss: 0.215817\n",
      "Train Epoch: 5 [6400/13363 (48%)]\tLoss: 0.136981\n",
      "Train Epoch: 5 [7680/13363 (57%)]\tLoss: 0.133983\n",
      "Train Epoch: 5 [8960/13363 (67%)]\tLoss: 0.167522\n",
      "Train Epoch: 5 [10240/13363 (77%)]\tLoss: 0.123826\n",
      "Train Epoch: 5 [11520/13363 (86%)]\tLoss: 0.218323\n",
      "Train Epoch: 5 [12800/13363 (96%)]\tLoss: 0.144798\n"
     ]
    },
    {
     "name": "stderr",
     "output_type": "stream",
     "text": [
      "100%|██████████| 5/5 [01:32<00:00, 18.52s/it]"
     ]
    },
    {
     "name": "stdout",
     "output_type": "stream",
     "text": [
      "\n",
      "Test set: Average loss: 0.1772, Accuracy: 3607/3818 (94%)\n",
      "\n"
     ]
    },
    {
     "name": "stderr",
     "output_type": "stream",
     "text": [
      "\n"
     ]
    }
   ],
   "source": [
    "n_epoch = 5\n",
    "log_interval = 20\n",
    "import torch.nn.functional as F\n",
    "import torch.optim as optim\n",
    "from tqdm import tqdm\n",
    "\n",
    "scheduler = optim.lr_scheduler.StepLR(optimizer, step_size=50, gamma=0.1)\n",
    "\n",
    "with tqdm(total=n_epoch) as pbar:\n",
    "    train_epoch_losses = []\n",
    "    train_epoch_accuracies = []\n",
    "    test_epoch_losses = []\n",
    "    test_epoch_accuracies = []\n",
    "    all_preds = []\n",
    "    all_targets = []\n",
    "    for epoch in range(1, n_epoch + 1):\n",
    "        loss, acc = train(model, device, train_loader, optimizer, epoch, log_interval, scheduler)\n",
    "        train_epoch_losses.append(loss)\n",
    "        train_epoch_accuracies.append(acc)\n",
    "\n",
    "        loss, acc, preds, targets = test(model, device, test_loader)\n",
    "        test_epoch_losses.append(loss)\n",
    "        test_epoch_accuracies.append(acc)\n",
    "        torch.save(model.state_dict(), 'best_gsc_command.pt')\n",
    "        pbar.update(1)\n"
   ]
  },
  {
   "cell_type": "code",
   "execution_count": 15,
   "metadata": {},
   "outputs": [
    {
     "data": {
      "image/png": "[encoded data removed]",
      "text/plain": [
       "<Figure size 600x600 with 2 Axes>"
      ]
     },
     "metadata": {},
     "output_type": "display_data"
    }
   ],
   "source": [
    "import matplotlib.pyplot as plt\n",
    "import seaborn as sns\n",
    "sns.set(style=\"darkgrid\")\n",
    "\n",
    "# Assuming the number of epochs is the length of the longest list\n",
    "num_epochs = 100\n",
    "epochs = range(1, num_epochs + 1)\n",
    "\n",
    "# Create a figure with 2 subplots, vertically aligned, with a smaller size\n",
    "fig, axs = plt.subplots(2, 1, figsize=(6, 6))\n",
    "\n",
    "# Plot training loss and test loss in the same subplot\n",
    "axs[0].plot(epochs[:len(train_epoch_losses)], train_epoch_losses, label='Training Loss', color='tab:red')\n",
    "axs[0].plot(epochs[:len(test_epoch_losses)], test_epoch_losses, label='Test Loss', color='tab:orange')\n",
    "axs[0].set_title('Training & Test Loss')\n",
    "axs[0].set_xlabel('Epoch')\n",
    "axs[0].set_ylabel('Loss')\n",
    "axs[0].legend()\n",
    "\n",
    "# Plot training accuracy and test accuracy in the same subplot\n",
    "axs[1].plot(epochs[:len(train_epoch_accuracies)], train_epoch_accuracies, label='Training Accuracy', color='tab:green')\n",
    "axs[1].plot(epochs[:len(test_epoch_accuracies)], test_epoch_accuracies, label='Test Accuracy', color='tab:blue')\n",
    "axs[1].set_title('Training & Test Accuracy')\n",
    "axs[1].set_xlabel('Epoch')\n",
    "axs[1].set_ylabel('Accuracy')\n",
    "axs[1].legend()\n",
    "\n",
    "# Adjust layout to prevent overlap\n",
    "plt.tight_layout()\n",
    "\n",
    "plt.show()"
   ]
  },
  {
   "cell_type": "code",
   "execution_count": 16,
   "metadata": {},
   "outputs": [
    {
     "name": "stdout",
     "output_type": "stream",
     "text": [
      "              precision    recall  f1-score   support\n",
      "\n",
      "        stop       0.91      0.94      0.93      3885\n",
      "          up       0.92      0.89      0.90      3580\n",
      "        down       0.92      0.91      0.91      3910\n",
      "        left       0.96      0.92      0.94      3955\n",
      "       right       0.91      0.95      0.93      3760\n",
      "\n",
      "    accuracy                           0.92     19090\n",
      "   macro avg       0.92      0.92      0.92     19090\n",
      "weighted avg       0.92      0.92      0.92     19090\n",
      "\n",
      "[[3659   49   82   58   37]\n",
      " [  95 3189  178   38   80]\n",
      " [  89  152 3570   18   81]\n",
      " [ 125   33   29 3625  143]\n",
      " [  56   45   37   38 3584]]\n"
     ]
    },
    {
     "data": {
      "text/plain": [
       "(<sklearn.metrics._plot.confusion_matrix.ConfusionMatrixDisplay at 0x1ab60d42990>,\n",
       " None)"
      ]
     },
     "execution_count": 16,
     "metadata": {},
     "output_type": "execute_result"
    },
    {
     "data": {
      "image/png": "[encoded data removed]",
      "text/plain": [
       "<Figure size 640x480 with 2 Axes>"
      ]
     },
     "metadata": {},
     "output_type": "display_data"
    }
   ],
   "source": [
    "from sklearn.metrics import classification_report\n",
    "\n",
    "report = classification_report(all_targets, all_preds, target_names=['stop', 'up', 'down', 'left', 'right'])  # Adjust target_names based on your dataset\n",
    "print(report)\n",
    "from sklearn.metrics import confusion_matrix\n",
    "\n",
    "confision_matrix = confusion_matrix(all_targets, all_preds)\n",
    "#print confusion matrix and labels\n",
    "print(confision_matrix)\n",
    "\n",
    "\n",
    "# confusion matrix display using sklearn\n",
    "from sklearn.metrics import confusion_matrix, ConfusionMatrixDisplay\n",
    "\n",
    "# Assuming the confusion matrix is stored in the variable confusion_matrix\n",
    "disp = ConfusionMatrixDisplay(confusion_matrix=confision_matrix, display_labels=['stop', 'up', 'down', 'left', 'right'])\n",
    "\n",
    "#rempove the grid lines from the confusion matrix \n",
    "disp.plot(cmap='Blues', values_format='d', xticks_rotation='vertical', ax=None), plt.grid(False)\n"
   ]
  },
  {
   "cell_type": "code",
   "execution_count": 33,
   "metadata": {},
   "outputs": [
    {
     "name": "stdout",
     "output_type": "stream",
     "text": [
      "Expected: 2. Predicted: 3.\n",
      "Expected: 3. Predicted: 4.\n",
      "Expected: 2. Predicted: 0.\n",
      "Expected: 3. Predicted: 4.\n",
      "Expected: 1. Predicted: 0.\n",
      "Expected: 2. Predicted: 1.\n",
      "Expected: 2. Predicted: 1.\n",
      "Expected: 1. Predicted: 2.\n",
      "Expected: 4. Predicted: 3.\n",
      "Expected: 3. Predicted: 2.\n",
      "Expected: 3. Predicted: 0.\n",
      "Expected: 3. Predicted: 4.\n",
      "Expected: 1. Predicted: 0.\n",
      "Expected: 0. Predicted: 3.\n",
      "Expected: 0. Predicted: 3.\n",
      "Expected: 3. Predicted: 1.\n",
      "Expected: 3. Predicted: 0.\n",
      "Expected: 1. Predicted: 2.\n",
      "Expected: 3. Predicted: 0.\n",
      "Expected: 4. Predicted: 0.\n",
      "Expected: 2. Predicted: 1.\n",
      "Expected: 1. Predicted: 4.\n",
      "Expected: 4. Predicted: 3.\n",
      "Expected: 3. Predicted: 1.\n",
      "Expected: 3. Predicted: 4.\n",
      "Expected: 3. Predicted: 4.\n",
      "Expected: 1. Predicted: 2.\n",
      "Expected: 2. Predicted: 1.\n",
      "Expected: 1. Predicted: 2.\n",
      "Expected: 3. Predicted: 4.\n",
      "Expected: 2. Predicted: 1.\n",
      "Expected: 0. Predicted: 3.\n",
      "Expected: 2. Predicted: 0.\n",
      "Expected: 0. Predicted: 3.\n",
      "Expected: 2. Predicted: 1.\n",
      "Expected: 0. Predicted: 3.\n",
      "Expected: 4. Predicted: 1.\n",
      "Expected: 4. Predicted: 1.\n",
      "Expected: 0. Predicted: 4.\n",
      "Expected: 0. Predicted: 2.\n",
      "Expected: 3. Predicted: 0.\n",
      "Expected: 1. Predicted: 4.\n",
      "Expected: 3. Predicted: 4.\n",
      "Expected: 2. Predicted: 1.\n",
      "Expected: 0. Predicted: 3.\n",
      "Expected: 2. Predicted: 1.\n",
      "Expected: 2. Predicted: 1.\n",
      "Expected: 1. Predicted: 2.\n",
      "Expected: 4. Predicted: 0.\n",
      "Expected: 3. Predicted: 2.\n",
      "Expected: 3. Predicted: 4.\n",
      "Expected: 1. Predicted: 4.\n",
      "Expected: 2. Predicted: 1.\n",
      "Expected: 4. Predicted: 0.\n",
      "Expected: 4. Predicted: 3.\n",
      "Expected: 2. Predicted: 1.\n",
      "Expected: 2. Predicted: 4.\n",
      "Expected: 0. Predicted: 1.\n",
      "Expected: 4. Predicted: 1.\n",
      "Expected: 2. Predicted: 1.\n",
      "Expected: 3. Predicted: 4.\n",
      "Expected: 4. Predicted: 2.\n",
      "Expected: 1. Predicted: 0.\n",
      "Expected: 3. Predicted: 4.\n",
      "Expected: 1. Predicted: 4.\n",
      "Expected: 4. Predicted: 0.\n",
      "Expected: 3. Predicted: 4.\n",
      "Expected: 1. Predicted: 0.\n",
      "Expected: 0. Predicted: 4.\n",
      "Expected: 2. Predicted: 1.\n",
      "Expected: 1. Predicted: 3.\n",
      "Expected: 2. Predicted: 1.\n",
      "Expected: 1. Predicted: 3.\n",
      "Expected: 2. Predicted: 1.\n",
      "Expected: 0. Predicted: 1.\n",
      "Expected: 2. Predicted: 1.\n",
      "Expected: 2. Predicted: 4.\n",
      "Expected: 0. Predicted: 2.\n",
      "Expected: 2. Predicted: 1.\n",
      "Expected: 0. Predicted: 4.\n",
      "Expected: 2. Predicted: 3.\n",
      "Expected: 0. Predicted: 3.\n",
      "Expected: 3. Predicted: 0.\n",
      "Expected: 3. Predicted: 0.\n",
      "Expected: 4. Predicted: 2.\n",
      "Expected: 1. Predicted: 0.\n",
      "Expected: 1. Predicted: 2.\n",
      "Expected: 0. Predicted: 3.\n",
      "Expected: 2. Predicted: 0.\n",
      "Expected: 2. Predicted: 0.\n",
      "Expected: 1. Predicted: 4.\n",
      "Expected: 4. Predicted: 0.\n",
      "92\n"
     ]
    }
   ],
   "source": [
    "def predict(tensor):\n",
    "    # Use the model to predict the label of the waveform\n",
    "    tensor = tensor.to(device)\n",
    "    tensor = model(tensor.unsqueeze(0))\n",
    "    tensor = get_likely_index(tensor)\n",
    "    return tensor\n",
    "\n",
    "nr = 0\n",
    "for i in range(len(valid_dataset)):\n",
    "    waveform, utterance = valid_dataset[i]\n",
    "    if utterance != predict(waveform).item():\n",
    "        nr += 1\n",
    "        print(f\"Expected: {utterance}. Predicted: {predict(waveform).item()}.\")\n",
    "\n",
    "print(nr)"
   ]
  }
 ],
 "metadata": {
  "kernelspec": {
   "display_name": "Python 3",
   "language": "python",
   "name": "python3"
  },
  "language_info": {
   "codemirror_mode": {
    "name": "ipython",
    "version": 3
   },
   "file_extension": ".py",
   "mimetype": "text/x-python",
   "name": "python",
   "nbconvert_exporter": "python",
   "pygments_lexer": "ipython3",
   "version": "3.11.5"
  }
 },
 "nbformat": 4,
 "nbformat_minor": 2
}
